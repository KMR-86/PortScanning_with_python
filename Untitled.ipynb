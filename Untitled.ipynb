{
 "cells": [
  {
   "cell_type": "code",
   "execution_count": null,
   "metadata": {},
   "outputs": [
    {
     "name": "stdout",
     "output_type": "stream",
     "text": [
      "nmap version :  (7, 80)\n",
      "scanner info :\n",
      " {'tcp': {'method': 'syn', 'services': '1-1024'}}\n",
      "IP status up\n",
      "all protocols :\n",
      "\n",
      "<bound method PortScannerHostDict.all_protocols of {'hostnames': [{'name': '', 'type': ''}], 'addresses': {'ipv4': '127.0.0.1'}, 'vendor': {}, 'status': {'state': 'up', 'reason': 'localhost-response'}, 'tcp': {135: {'state': 'open', 'reason': 'syn-ack', 'name': 'msrpc', 'product': '', 'version': '', 'extrainfo': '', 'conf': '3', 'cpe': ''}, 137: {'state': 'filtered', 'reason': 'no-response', 'name': 'netbios-ns', 'product': '', 'version': '', 'extrainfo': '', 'conf': '3', 'cpe': ''}, 445: {'state': 'open', 'reason': 'syn-ack', 'name': 'microsoft-ds', 'product': '', 'version': '', 'extrainfo': '', 'conf': '3', 'cpe': ''}}}>\n",
      "\n",
      "open ports:  dict_keys([135, 137, 445])\n",
      "nmap version :  (7, 80)\n",
      "scanner info :\n",
      " {'udp': {'method': 'udp', 'services': '1-1024'}}\n",
      "IP status up\n",
      "all protocols :\n",
      "\n",
      "<bound method PortScannerHostDict.all_protocols of {'hostnames': [{'name': '', 'type': ''}], 'addresses': {'ipv4': '127.0.0.1'}, 'vendor': {}, 'status': {'state': 'up', 'reason': 'localhost-response'}, 'udp': {137: {'state': 'open|filtered', 'reason': 'no-response', 'name': 'netbios-ns', 'product': '', 'version': '', 'extrainfo': '', 'conf': '3', 'cpe': ''}}}>\n",
      "\n",
      "open ports:  dict_keys([137])\n",
      "nmap version :  (7, 80)\n"
     ]
    }
   ],
   "source": [
    "import nmap\n",
    "scanner = nmap.PortScanner()\n",
    "#ip=input(\"enter ip address\")\n",
    "ip=\"127.0.0.1\"\n",
    "def tcp_scan(ip):\n",
    "    \n",
    "    print(\"nmap version : \",scanner.nmap_version())\n",
    "    scanner.scan(ip,\"1-1024\",\"-v -sS\")\n",
    "    print(\"scanner info :\\n\",scanner.scaninfo())\n",
    "    print(\"IP status\",scanner[ip].state())\n",
    "    print(\"all protocols :\\n\")\n",
    "    print(scanner[ip].all_protocols)\n",
    "    print(\"\\nopen ports: \",scanner[ip]['tcp'].keys())\n",
    "\n",
    "def udp_scan(ip):\n",
    "    \n",
    "    print(\"nmap version : \",scanner.nmap_version())\n",
    "    scanner.scan(ip,\"1-1024\",\"-v -sU\")\n",
    "    print(\"scanner info :\\n\",scanner.scaninfo())\n",
    "    print(\"IP status\",scanner[ip].state())\n",
    "    print(\"all protocols :\\n\")\n",
    "    print(scanner[ip].all_protocols)\n",
    "    print(\"\\nopen ports: \",scanner[ip]['udp'].keys())\n",
    "    \n",
    "def combined_scan(ip):\n",
    "    print(\"nmap version : \",scanner.nmap_version())\n",
    "    scanner.scan(ip,\"1-1024\",\"-v -sS -sC -sV -A -O\")\n",
    "    print(\"scanner info :\\n\",scanner.scaninfo())\n",
    "    print(\"IP status\",scanner[ip].state())\n",
    "    print(\"all protocols :\\n\")\n",
    "    print(scanner[ip].all_protocols)\n",
    "    print(\"\\nopen ports: \",scanner[ip]['tcp'].keys())\n",
    "\n",
    "tcp_scan(ip)\n",
    "udp_scan(ip)\n",
    "combined_scan(ip)"
   ]
  },
  {
   "cell_type": "code",
   "execution_count": null,
   "metadata": {},
   "outputs": [],
   "source": []
  }
 ],
 "metadata": {
  "kernelspec": {
   "display_name": "Python 3",
   "language": "python",
   "name": "python3"
  },
  "language_info": {
   "codemirror_mode": {
    "name": "ipython",
    "version": 3
   },
   "file_extension": ".py",
   "mimetype": "text/x-python",
   "name": "python",
   "nbconvert_exporter": "python",
   "pygments_lexer": "ipython3",
   "version": "3.7.4"
  }
 },
 "nbformat": 4,
 "nbformat_minor": 2
}
