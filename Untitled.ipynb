{
 "cells": [
  {
   "cell_type": "code",
   "execution_count": 1,
   "metadata": {},
   "outputs": [
    {
     "name": "stdout",
     "output_type": "stream",
     "text": [
      "open ports:  dict_keys([135, 137, 445])\n"
     ]
    }
   ],
   "source": [
    "import nmap\n",
    "scanner = nmap.PortScanner()\n",
    "ip=input(\"enter ip address\")\n",
    "#ip=\"127.0.0.1\"\n",
    "scanner.scan(ip,\"1-1024\",\"-v -sS\")\n",
    "print(\"open ports: \",scanner[ip]['tcp'].keys())"
   ]
  },
  {
   "cell_type": "code",
   "execution_count": null,
   "metadata": {},
   "outputs": [],
   "source": []
  }
 ],
 "metadata": {
  "kernelspec": {
   "display_name": "Python 3",
   "language": "python",
   "name": "python3"
  },
  "language_info": {
   "codemirror_mode": {
    "name": "ipython",
    "version": 3
   },
   "file_extension": ".py",
   "mimetype": "text/x-python",
   "name": "python",
   "nbconvert_exporter": "python",
   "pygments_lexer": "ipython3",
   "version": "3.7.4"
  }
 },
 "nbformat": 4,
 "nbformat_minor": 2
}
