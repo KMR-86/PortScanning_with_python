{
 "cells": [
  {
   "cell_type": "code",
   "execution_count": 1,
   "metadata": {},
   "outputs": [
    {
     "name": "stdout",
     "output_type": "stream",
     "text": [
      "enter ip address66.7.148.85\n",
      "nmap version :  (7, 80)\n",
      "scanner info :\n",
      " {'tcp': {'method': 'syn', 'services': '1-1024'}}\n",
      "IP status up\n",
      "all protocols :\n",
      "\n",
      "<bound method PortScannerHostDict.all_protocols of {'hostnames': [{'name': 'server.bestssdserver.com', 'type': 'PTR'}], 'addresses': {'ipv4': '66.7.148.85'}, 'vendor': {}, 'status': {'state': 'up', 'reason': 'echo-reply'}, 'tcp': {20: {'state': 'closed', 'reason': 'reset', 'name': 'ftp-data', 'product': '', 'version': '', 'extrainfo': '', 'conf': '3', 'cpe': ''}, 21: {'state': 'open', 'reason': 'syn-ack', 'name': 'ftp', 'product': '', 'version': '', 'extrainfo': '', 'conf': '3', 'cpe': ''}, 22: {'state': 'open', 'reason': 'syn-ack', 'name': 'ssh', 'product': '', 'version': '', 'extrainfo': '', 'conf': '3', 'cpe': ''}, 23: {'state': 'open', 'reason': 'syn-ack', 'name': 'telnet', 'product': '', 'version': '', 'extrainfo': '', 'conf': '3', 'cpe': ''}, 25: {'state': 'open', 'reason': 'syn-ack', 'name': 'smtp', 'product': '', 'version': '', 'extrainfo': '', 'conf': '3', 'cpe': ''}, 26: {'state': 'closed', 'reason': 'reset', 'name': 'rsftp', 'product': '', 'version': '', 'extrainfo': '', 'conf': '3', 'cpe': ''}, 42: {'state': 'open', 'reason': 'syn-ack', 'name': 'nameserver', 'product': '', 'version': '', 'extrainfo': '', 'conf': '3', 'cpe': ''}, 53: {'state': 'open', 'reason': 'syn-ack', 'name': 'domain', 'product': '', 'version': '', 'extrainfo': '', 'conf': '3', 'cpe': ''}, 79: {'state': 'open', 'reason': 'syn-ack', 'name': 'finger', 'product': '', 'version': '', 'extrainfo': '', 'conf': '3', 'cpe': ''}, 80: {'state': 'open', 'reason': 'syn-ack', 'name': 'http', 'product': '', 'version': '', 'extrainfo': '', 'conf': '3', 'cpe': ''}, 110: {'state': 'open', 'reason': 'syn-ack', 'name': 'pop3', 'product': '', 'version': '', 'extrainfo': '', 'conf': '3', 'cpe': ''}, 119: {'state': 'open', 'reason': 'syn-ack', 'name': 'nntp', 'product': '', 'version': '', 'extrainfo': '', 'conf': '3', 'cpe': ''}, 123: {'state': 'open', 'reason': 'syn-ack', 'name': 'ntp', 'product': '', 'version': '', 'extrainfo': '', 'conf': '3', 'cpe': ''}, 137: {'state': 'open', 'reason': 'syn-ack', 'name': 'netbios-ns', 'product': '', 'version': '', 'extrainfo': '', 'conf': '3', 'cpe': ''}, 139: {'state': 'open', 'reason': 'syn-ack', 'name': 'netbios-ssn', 'product': '', 'version': '', 'extrainfo': '', 'conf': '3', 'cpe': ''}, 143: {'state': 'open', 'reason': 'syn-ack', 'name': 'imap', 'product': '', 'version': '', 'extrainfo': '', 'conf': '3', 'cpe': ''}, 388: {'state': 'open', 'reason': 'syn-ack', 'name': 'unidata-ldm', 'product': '', 'version': '', 'extrainfo': '', 'conf': '3', 'cpe': ''}, 406: {'state': 'open', 'reason': 'syn-ack', 'name': 'imsp', 'product': '', 'version': '', 'extrainfo': '', 'conf': '3', 'cpe': ''}, 407: {'state': 'open', 'reason': 'syn-ack', 'name': 'timbuktu', 'product': '', 'version': '', 'extrainfo': '', 'conf': '3', 'cpe': ''}, 443: {'state': 'open', 'reason': 'syn-ack', 'name': 'https', 'product': '', 'version': '', 'extrainfo': '', 'conf': '3', 'cpe': ''}, 465: {'state': 'open', 'reason': 'syn-ack', 'name': 'smtps', 'product': '', 'version': '', 'extrainfo': '', 'conf': '3', 'cpe': ''}, 481: {'state': 'open', 'reason': 'syn-ack', 'name': 'dvs', 'product': '', 'version': '', 'extrainfo': '', 'conf': '3', 'cpe': ''}, 500: {'state': 'open', 'reason': 'syn-ack', 'name': 'isakmp', 'product': '', 'version': '', 'extrainfo': '', 'conf': '3', 'cpe': ''}, 541: {'state': 'open', 'reason': 'syn-ack', 'name': 'uucp-rlogin', 'product': '', 'version': '', 'extrainfo': '', 'conf': '3', 'cpe': ''}, 554: {'state': 'open', 'reason': 'syn-ack', 'name': 'rtsp', 'product': '', 'version': '', 'extrainfo': '', 'conf': '3', 'cpe': ''}, 555: {'state': 'open', 'reason': 'syn-ack', 'name': 'dsf', 'product': '', 'version': '', 'extrainfo': '', 'conf': '3', 'cpe': ''}, 556: {'state': 'open', 'reason': 'syn-ack', 'name': 'remotefs', 'product': '', 'version': '', 'extrainfo': '', 'conf': '3', 'cpe': ''}, 579: {'state': 'closed', 'reason': 'reset', 'name': 'decbsrv', 'product': '', 'version': '', 'extrainfo': '', 'conf': '3', 'cpe': ''}, 587: {'state': 'open', 'reason': 'syn-ack', 'name': 'submission', 'product': '', 'version': '', 'extrainfo': '', 'conf': '3', 'cpe': ''}, 641: {'state': 'open', 'reason': 'syn-ack', 'name': 'repcmd', 'product': '', 'version': '', 'extrainfo': '', 'conf': '3', 'cpe': ''}, 666: {'state': 'open', 'reason': 'syn-ack', 'name': 'doom', 'product': '', 'version': '', 'extrainfo': '', 'conf': '3', 'cpe': ''}, 691: {'state': 'open', 'reason': 'syn-ack', 'name': 'resvc', 'product': '', 'version': '', 'extrainfo': '', 'conf': '3', 'cpe': ''}, 782: {'state': 'open', 'reason': 'syn-ack', 'name': 'hp-managed-node', 'product': '', 'version': '', 'extrainfo': '', 'conf': '3', 'cpe': ''}, 808: {'state': 'open', 'reason': 'syn-ack', 'name': 'ccproxy-http', 'product': '', 'version': '', 'extrainfo': '', 'conf': '3', 'cpe': ''}, 829: {'state': 'open', 'reason': 'syn-ack', 'name': 'pkix-3-ca-ra', 'product': '', 'version': '', 'extrainfo': '', 'conf': '3', 'cpe': ''}, 900: {'state': 'open', 'reason': 'syn-ack', 'name': 'omginitialrefs', 'product': '', 'version': '', 'extrainfo': '', 'conf': '3', 'cpe': ''}, 993: {'state': 'open', 'reason': 'syn-ack', 'name': 'imaps', 'product': '', 'version': '', 'extrainfo': '', 'conf': '3', 'cpe': ''}, 995: {'state': 'open', 'reason': 'syn-ack', 'name': 'pop3s', 'product': '', 'version': '', 'extrainfo': '', 'conf': '3', 'cpe': ''}, 1000: {'state': 'open', 'reason': 'syn-ack', 'name': 'cadlock', 'product': '', 'version': '', 'extrainfo': '', 'conf': '3', 'cpe': ''}, 1001: {'state': 'open', 'reason': 'syn-ack', 'name': 'webpush', 'product': '', 'version': '', 'extrainfo': '', 'conf': '3', 'cpe': ''}, 1002: {'state': 'open', 'reason': 'syn-ack', 'name': 'windows-icfw', 'product': '', 'version': '', 'extrainfo': '', 'conf': '3', 'cpe': ''}}}>\n",
      "\n",
      "open ports:  dict_keys([20, 21, 22, 23, 25, 26, 42, 53, 79, 80, 110, 119, 123, 137, 139, 143, 388, 406, 407, 443, 465, 481, 500, 541, 554, 555, 556, 579, 587, 641, 666, 691, 782, 808, 829, 900, 993, 995, 1000, 1001, 1002])\n",
      "nmap version :  (7, 80)\n",
      "scanner info :\n",
      " {'udp': {'method': 'udp', 'services': '1-1024'}}\n",
      "IP status up\n",
      "all protocols :\n",
      "\n",
      "<bound method PortScannerHostDict.all_protocols of {'hostnames': [{'name': 'server.bestssdserver.com', 'type': 'PTR'}], 'addresses': {'ipv4': '66.7.148.85'}, 'vendor': {}, 'status': {'state': 'up', 'reason': 'echo-reply'}, 'udp': {20: {'state': 'closed', 'reason': 'port-unreach', 'name': 'ftp-data', 'product': '', 'version': '', 'extrainfo': '', 'conf': '3', 'cpe': ''}, 21: {'state': 'closed', 'reason': 'port-unreach', 'name': 'ftp', 'product': '', 'version': '', 'extrainfo': '', 'conf': '3', 'cpe': ''}, 53: {'state': 'open', 'reason': 'udp-response', 'name': 'domain', 'product': '', 'version': '', 'extrainfo': '', 'conf': '3', 'cpe': ''}}}>\n",
      "\n",
      "open ports:  dict_keys([20, 21, 53])\n",
      "nmap version :  (7, 80)\n",
      "scanner info :\n",
      " {'tcp': {'method': 'syn', 'services': '1-1024'}}\n",
      "IP status up\n",
      "all protocols :\n",
      "\n",
      "<bound method PortScannerHostDict.all_protocols of {'hostnames': [{'name': 'server.bestssdserver.com', 'type': 'PTR'}], 'addresses': {'ipv4': '66.7.148.85'}, 'vendor': {}, 'status': {'state': 'up', 'reason': 'echo-reply'}, 'tcp': {20: {'state': 'closed', 'reason': 'reset', 'name': 'ftp-data', 'product': '', 'version': '', 'extrainfo': '', 'conf': '3', 'cpe': ''}, 21: {'state': 'open', 'reason': 'syn-ack', 'name': 'ftp', 'product': 'Pure-FTPd', 'version': '', 'extrainfo': '', 'conf': '10', 'cpe': 'cpe:/a:pureftpd:pure-ftpd'}, 22: {'state': 'open', 'reason': 'syn-ack', 'name': 'ssh', 'product': 'OpenSSH', 'version': '7.4', 'extrainfo': 'protocol 2.0', 'conf': '10', 'cpe': 'cpe:/a:openbsd:openssh:7.4'}, 23: {'state': 'open', 'reason': 'syn-ack', 'name': 'telnet', 'product': '', 'version': '', 'extrainfo': '', 'conf': '3', 'cpe': '', 'script': {'fingerprint-strings': '\\n  GenericLines, GetRequest, HTTPOptions, tn3270: \\n    This is an unrestricted telnet server.\\n    Please do not user for production purposes\\n    bash: command not found\\n  NULL: \\n    This is an unrestricted telnet server.\\n    Please do not user for production purposes'}}, 25: {'state': 'open', 'reason': 'syn-ack', 'name': 'smtp', 'product': '', 'version': '', 'extrainfo': '', 'conf': '3', 'cpe': '', 'script': {'smtp-commands': \"Couldn't establish connection on port 25\"}}, 26: {'state': 'closed', 'reason': 'reset', 'name': 'rsftp', 'product': '', 'version': '', 'extrainfo': '', 'conf': '3', 'cpe': ''}, 42: {'state': 'open', 'reason': 'syn-ack', 'name': 'smtp', 'product': '', 'version': '', 'extrainfo': '', 'conf': '3', 'cpe': '', 'script': {'fingerprint-strings': '\\n  GenericLines, GetRequest: \\n    220 ESMTP Postfix (Debian/GNU)\\n    5.5.2 Error: command not recognized\\n  Hello, NULL: \\n    220 ESMTP Postfix (Debian/GNU)', 'smtp-commands': \"Couldn't establish connection on port 42\"}}, 53: {'state': 'open', 'reason': 'syn-ack', 'name': 'domain', 'product': 'ISC BIND', 'version': '9.11.4-P2', 'extrainfo': 'RedHat Enterprise Linux 7', 'conf': '10', 'cpe': 'cpe:/o:redhat:enterprise_linux:7', 'script': {'dns-nsid': '\\n  bind.version: 9.11.4-P2-RedHat-9.11.4-9.P2.el7'}}, 79: {'state': 'open', 'reason': 'syn-ack', 'name': 'finger', 'product': '', 'version': '', 'extrainfo': '', 'conf': '3', 'cpe': '', 'script': {'finger': 'ERROR: Script execution failed (use -d to debug)', 'fingerprint-strings': '\\n  GenericLines, GetRequest, Help: \\n    This is an unrestricted telnet server.\\n    Please do not user for production purposes\\n    bash: command not found\\n  NULL: \\n    This is an unrestricted telnet server.\\n    Please do not user for production purposes'}}, 80: {'state': 'open', 'reason': 'syn-ack', 'name': 'http', 'product': 'nginx', 'version': '', 'extrainfo': '', 'conf': '10', 'cpe': 'cpe:/a:igor_sysoev:nginx'}, 110: {'state': 'open', 'reason': 'syn-ack', 'name': 'pop3', 'product': 'Dovecot pop3d', 'version': '', 'extrainfo': '', 'conf': '10', 'cpe': 'cpe:/a:dovecot:dovecot'}, 119: {'state': 'open', 'reason': 'syn-ack', 'name': 'nntp', 'product': '', 'version': '', 'extrainfo': '', 'conf': '3', 'cpe': '', 'script': {'fingerprint-strings': '\\n  DNSStatusRequestTCP, DNSVersionBindReqTCP, FourOhFourRequest, GenericLines, GetRequest, HTTPOptions, Help, JavaRMI, Kerberos, LANDesk-RC, LDAPBindReq, LDAPSearchReq, LPDString, NCP, NULL, NotesRPC, RPCCheck, RTSPRequest, SIPOptions, SMBProgNeg, SSLSessionReq, TLSSessionReq, TerminalServer, TerminalServerCookie, WMSRequest, X11Probe: \\n    This is an unrestricted telnet server.'}}, 123: {'state': 'open', 'reason': 'syn-ack', 'name': 'ntp', 'product': '', 'version': '', 'extrainfo': '', 'conf': '3', 'cpe': '', 'script': {'fingerprint-strings': '\\n  GenericLines, GetRequest, HTTPOptions, RTSPRequest: \\n    OK [CAPABILITY LOGIN-REFERRALS ID ENABLE IDLE AUTH=PLAIN] Dovecot ready.\\n    Error in IMAP command : Unknown command.\\n  NULL: \\n    OK [CAPABILITY LOGIN-REFERRALS ID ENABLE IDLE AUTH=PLAIN] Dovecot ready.'}}, 137: {'state': 'open', 'reason': 'syn-ack', 'name': 'pop3', 'product': 'Dovecot pop3d', 'version': '', 'extrainfo': '', 'conf': '10', 'cpe': 'cpe:/a:dovecot:dovecot'}, 139: {'state': 'open', 'reason': 'syn-ack', 'name': 'ftp', 'product': 'ProFTPD', 'version': '1.3.1', 'extrainfo': '', 'conf': '10', 'cpe': 'cpe:/a:proftpd:proftpd:1.3.1'}, 143: {'state': 'open', 'reason': 'syn-ack', 'name': 'imap', 'product': 'Dovecot imapd', 'version': '', 'extrainfo': '', 'conf': '10', 'cpe': 'cpe:/a:dovecot:dovecot'}, 388: {'state': 'open', 'reason': 'syn-ack', 'name': 'unidata-ldm', 'product': '', 'version': '', 'extrainfo': '', 'conf': '3', 'cpe': '', 'script': {'fingerprint-strings': '\\n  GenericLines, GetRequest, HTTPOptions, RTSPRequest: \\n    OK [CAPABILITY LOGIN-REFERRALS ID ENABLE IDLE AUTH=PLAIN] Dovecot ready.\\n    Error in IMAP command : Unknown command.\\n  NULL: \\n    OK [CAPABILITY LOGIN-REFERRALS ID ENABLE IDLE AUTH=PLAIN] Dovecot ready.'}}, 406: {'state': 'open', 'reason': 'syn-ack', 'name': 'imsp', 'product': '', 'version': '', 'extrainfo': '', 'conf': '3', 'cpe': '', 'script': {'fingerprint-strings': '\\n  GenericLines, GetRequest, SIPOptions: \\n    OK [CAPABILITY LOGIN-REFERRALS ID ENABLE IDLE AUTH=PLAIN] Dovecot ready.\\n    Error in IMAP command : Unknown command.\\n  NULL: \\n    OK [CAPABILITY LOGIN-REFERRALS ID ENABLE IDLE AUTH=PLAIN] Dovecot ready.'}}, 407: {'state': 'open', 'reason': 'syn-ack', 'name': 'timbuktu', 'product': '', 'version': '', 'extrainfo': '', 'conf': '3', 'cpe': '', 'script': {'fingerprint-strings': '\\n  GenericLines, GetRequest, HTTPOptions, RTSPRequest: \\n    This is an unrestricted telnet server.\\n    Please do not user for production purposes\\n    bash: command not found\\n  NULL: \\n    This is an unrestricted telnet server.\\n    Please do not user for production purposes'}}, 443: {'state': 'open', 'reason': 'syn-ack', 'name': 'http', 'product': 'nginx', 'version': '', 'extrainfo': '', 'conf': '10', 'cpe': 'cpe:/a:igor_sysoev:nginx'}, 465: {'state': 'open', 'reason': 'syn-ack', 'name': 'smtps', 'product': '', 'version': '', 'extrainfo': '', 'conf': '3', 'cpe': '', 'script': {'smtp-commands': \"Couldn't establish connection on port 465\"}}, 481: {'state': 'open', 'reason': 'syn-ack', 'name': 'pop3', 'product': 'Dovecot pop3d', 'version': '', 'extrainfo': '', 'conf': '10', 'cpe': 'cpe:/a:dovecot:dovecot'}, 500: {'state': 'open', 'reason': 'syn-ack', 'name': 'isakmp', 'product': '', 'version': '', 'extrainfo': '', 'conf': '3', 'cpe': '', 'script': {'fingerprint-strings': '\\n  GenericLines, GetRequest, HTTPOptions, OpenVPN: \\n    This is an unrestricted telnet server.\\n    Please do not user for production purposes\\n    bash: command not found\\n  NULL: \\n    This is an unrestricted telnet server.\\n    Please do not user for production purposes'}}, 541: {'state': 'open', 'reason': 'syn-ack', 'name': 'pop3', 'product': 'Dovecot pop3d', 'version': '', 'extrainfo': '', 'conf': '10', 'cpe': 'cpe:/a:dovecot:dovecot'}, 554: {'state': 'open', 'reason': 'syn-ack', 'name': 'ftp', 'product': 'ProFTPD', 'version': '1.3.1', 'extrainfo': '', 'conf': '10', 'cpe': 'cpe:/a:proftpd:proftpd:1.3.1'}, 555: {'state': 'open', 'reason': 'syn-ack', 'name': 'dsf', 'product': '', 'version': '', 'extrainfo': '', 'conf': '3', 'cpe': '', 'script': {'fingerprint-strings': '\\n  GenericLines, GetRequest, HTTPOptions, RTSPRequest: \\n    This is an unrestricted telnet server.\\n    Please do not user for production purposes\\n    bash: command not found\\n  NULL: \\n    This is an unrestricted telnet server.\\n    Please do not user for production purposes'}}, 556: {'state': 'open', 'reason': 'syn-ack', 'name': 'ftp', 'product': 'ProFTPD', 'version': '1.3.1', 'extrainfo': '', 'conf': '10', 'cpe': 'cpe:/a:proftpd:proftpd:1.3.1'}, 579: {'state': 'closed', 'reason': 'reset', 'name': 'decbsrv', 'product': '', 'version': '', 'extrainfo': '', 'conf': '3', 'cpe': ''}, 587: {'state': 'open', 'reason': 'syn-ack', 'name': 'submission', 'product': '', 'version': '', 'extrainfo': '', 'conf': '3', 'cpe': '', 'script': {'smtp-commands': \"Couldn't establish connection on port 587\"}}, 641: {'state': 'open', 'reason': 'syn-ack', 'name': 'repcmd', 'product': '', 'version': '', 'extrainfo': '', 'conf': '3', 'cpe': '', 'script': {'fingerprint-strings': '\\n  GenericLines, GetRequest, HTTPOptions, RTSPRequest: \\n    OK [CAPABILITY LOGIN-REFERRALS ID ENABLE IDLE AUTH=PLAIN] Dovecot ready.\\n    Error in IMAP command : Unknown command.\\n  NULL: \\n    OK [CAPABILITY LOGIN-REFERRALS ID ENABLE IDLE AUTH=PLAIN] Dovecot ready.'}}, 666: {'state': 'open', 'reason': 'syn-ack', 'name': 'smtp', 'product': '', 'version': '', 'extrainfo': '', 'conf': '3', 'cpe': '', 'script': {'fingerprint-strings': '\\n  GenericLines, GetRequest: \\n    220 ESMTP Postfix (Debian/GNU)\\n    5.5.2 Error: command not recognized\\n  Hello, NULL: \\n    220 ESMTP Postfix (Debian/GNU)', 'smtp-commands': \"Couldn't establish connection on port 666\"}}, 691: {'state': 'open', 'reason': 'syn-ack', 'name': 'resvc', 'product': '', 'version': '', 'extrainfo': '', 'conf': '3', 'cpe': '', 'script': {'fingerprint-strings': '\\n  GenericLines, GetRequest, HTTPOptions, RTSPRequest: \\n    This is an unrestricted telnet server.\\n    Please do not user for production purposes\\n    bash: command not found\\n  NULL: \\n    This is an unrestricted telnet server.\\n    Please do not user for production purposes'}}, 782: {'state': 'open', 'reason': 'syn-ack', 'name': 'smtp', 'product': '', 'version': '', 'extrainfo': '', 'conf': '3', 'cpe': '', 'script': {'fingerprint-strings': '\\n  GenericLines, GetRequest: \\n    220 ESMTP Postfix (Debian/GNU)\\n    5.5.2 Error: command not recognized\\n  Hello, NULL: \\n    220 ESMTP Postfix (Debian/GNU)', 'smtp-commands': \"Couldn't establish connection on port 782\"}}, 808: {'state': 'open', 'reason': 'syn-ack', 'name': 'smtp', 'product': '', 'version': '', 'extrainfo': '', 'conf': '3', 'cpe': '', 'script': {'fingerprint-strings': '\\n  GenericLines, GetRequest: \\n    220 ESMTP Postfix (Debian/GNU)\\n    5.5.2 Error: command not recognized\\n  Hello, NULL: \\n    220 ESMTP Postfix (Debian/GNU)', 'smtp-commands': \"Couldn't establish connection on port 808\"}}, 829: {'state': 'open', 'reason': 'syn-ack', 'name': 'pkix-3-ca-ra', 'product': '', 'version': '', 'extrainfo': '', 'conf': '3', 'cpe': '', 'script': {'fingerprint-strings': '\\n  GenericLines, GetRequest, HTTPOptions: \\n    This is an unrestricted telnet server.\\n    Please do not user for production purposes\\n    bash: command not found\\n  NULL: \\n    This is an unrestricted telnet server.\\n    Please do not user for production purposes'}}, 900: {'state': 'open', 'reason': 'syn-ack', 'name': 'ftp', 'product': 'ProFTPD', 'version': '1.3.1', 'extrainfo': '', 'conf': '10', 'cpe': 'cpe:/a:proftpd:proftpd:1.3.1'}, 993: {'state': 'open', 'reason': 'syn-ack', 'name': 'imaps', 'product': '', 'version': '', 'extrainfo': '', 'conf': '3', 'cpe': ''}, 995: {'state': 'open', 'reason': 'syn-ack', 'name': 'pop3s', 'product': '', 'version': '', 'extrainfo': '', 'conf': '3', 'cpe': ''}, 1000: {'state': 'open', 'reason': 'syn-ack', 'name': 'smtp', 'product': '', 'version': '', 'extrainfo': '', 'conf': '3', 'cpe': '', 'script': {'fingerprint-strings': '\\n  GenericLines: \\n    220 ESMTP Postfix (Debian/GNU)\\n    5.5.2 Error: command not recognized\\n  NULL: \\n    220 ESMTP Postfix (Debian/GNU)', 'smtp-commands': \"Couldn't establish connection on port 1000\"}}, 1001: {'state': 'open', 'reason': 'syn-ack', 'name': 'tcpwrapped', 'product': '', 'version': '', 'extrainfo': '', 'conf': '8', 'cpe': ''}, 1002: {'state': 'open', 'reason': 'syn-ack', 'name': 'tcpwrapped', 'product': '', 'version': '', 'extrainfo': '', 'conf': '8', 'cpe': ''}}, 'hostscript': [{'id': 'smb2-security-mode', 'output': \"SMB: Couldn't find a NetBIOS name that works for the server. Sorry!\"}, {'id': 'smb2-time', 'output': 'ERROR: Script execution failed (use -d to debug)'}], 'portused': [{'state': 'open', 'proto': 'tcp', 'portid': '21'}, {'state': 'closed', 'proto': 'tcp', 'portid': '20'}], 'osmatch': [{'name': 'Fortinet FortiGate 100D firewall', 'accuracy': '87', 'line': '25595', 'osclass': [{'type': 'firewall', 'vendor': 'Fortinet', 'osfamily': 'embedded', 'osgen': None, 'accuracy': '87', 'cpe': ['cpe:/h:fortinet:fortigate_100d']}]}]}>\n",
      "\n",
      "open ports:  dict_keys([20, 21, 22, 23, 25, 26, 42, 53, 79, 80, 110, 119, 123, 137, 139, 143, 388, 406, 407, 443, 465, 481, 500, 541, 554, 555, 556, 579, 587, 641, 666, 691, 782, 808, 829, 900, 993, 995, 1000, 1001, 1002])\n"
     ]
    }
   ],
   "source": [
    "import nmap\n",
    "scanner = nmap.PortScanner()\n",
    "ip=input(\"enter ip address\")\n",
    "#ip=\"127.0.0.1\"\n",
    "def tcp_scan(ip):\n",
    "    \n",
    "    print(\"nmap version : \",scanner.nmap_version())\n",
    "    scanner.scan(ip,\"1-1024\",\"-v -sS\")\n",
    "    print(\"scanner info :\\n\",scanner.scaninfo())\n",
    "    print(\"IP status\",scanner[ip].state())\n",
    "    print(\"all protocols :\\n\")\n",
    "    print(scanner[ip].all_protocols)\n",
    "    print(\"\\nopen ports: \",scanner[ip]['tcp'].keys())\n",
    "\n",
    "def udp_scan(ip):\n",
    "    \n",
    "    print(\"nmap version : \",scanner.nmap_version())\n",
    "    scanner.scan(ip,\"1-1024\",\"-v -sU\")\n",
    "    print(\"scanner info :\\n\",scanner.scaninfo())\n",
    "    print(\"IP status\",scanner[ip].state())\n",
    "    print(\"all protocols :\\n\")\n",
    "    print(scanner[ip].all_protocols)\n",
    "    print(\"\\nopen ports: \",scanner[ip]['udp'].keys())\n",
    "    \n",
    "def combined_scan(ip):\n",
    "    print(\"nmap version : \",scanner.nmap_version())\n",
    "    scanner.scan(ip,\"1-1024\",\"-v -sS -sC -sV -A -O\")\n",
    "    print(\"scanner info :\\n\",scanner.scaninfo())\n",
    "    print(\"IP status\",scanner[ip].state())\n",
    "    print(\"all protocols :\\n\")\n",
    "    print(scanner[ip].all_protocols)\n",
    "    print(\"\\nopen ports: \",scanner[ip]['tcp'].keys())\n",
    "\n",
    "tcp_scan(ip)\n",
    "udp_scan(ip)\n",
    "combined_scan(ip)\n",
    "print(\"scanning done\")"
   ]
  },
  {
   "cell_type": "code",
   "execution_count": null,
   "metadata": {},
   "outputs": [],
   "source": []
  }
 ],
 "metadata": {
  "kernelspec": {
   "display_name": "Python 3",
   "language": "python",
   "name": "python3"
  },
  "language_info": {
   "codemirror_mode": {
    "name": "ipython",
    "version": 3
   },
   "file_extension": ".py",
   "mimetype": "text/x-python",
   "name": "python",
   "nbconvert_exporter": "python",
   "pygments_lexer": "ipython3",
   "version": "3.7.4"
  }
 },
 "nbformat": 4,
 "nbformat_minor": 2
}
